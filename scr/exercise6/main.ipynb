{
 "cells": [
  {
   "cell_type": "code",
   "id": "initial_id",
   "metadata": {
    "collapsed": true,
    "ExecuteTime": {
     "end_time": "2025-06-30T20:01:18.662441Z",
     "start_time": "2025-06-30T20:01:18.658076Z"
    }
   },
   "source": [
    "import os\n",
    "import psycopg2\n",
    "import tabulate\n",
    "from dotenv import load_dotenv\n",
    "import pandas as pd\n",
    "import chardet\n",
    "from psycopg2.extras import execute_values\n",
    "\n",
    "load_dotenv()\n",
    "\n",
    "dis_db_password = os.getenv(\"REMOTE_POSTGRES_DIS_PASSWORD\")\n",
    "\n",
    "conn_params = {\n",
    "    'host': 'vsisdb.informatik.uni-hamburg.de',\n",
    "    'dbname': 'dis-2025',\n",
    "    'user': 'vsisp42',\n",
    "    'password': dis_db_password\n",
    "}\n"
   ],
   "outputs": [],
   "execution_count": 34
  },
  {
   "metadata": {
    "ExecuteTime": {
     "end_time": "2025-06-30T13:13:16.996375Z",
     "start_time": "2025-06-30T13:13:16.794888Z"
    }
   },
   "cell_type": "code",
   "source": [
    "def show_existing_tables():\n",
    "    conn = psycopg2.connect(**conn_params)\n",
    "\n",
    "    with conn:\n",
    "        with conn.cursor() as cur:\n",
    "            cur.execute(\n",
    "                \"\"\"\n",
    "                SELECT table_name\n",
    "                FROM information_schema.tables\n",
    "                WHERE table_schema = %s\n",
    "                ORDER BY table_name;\n",
    "                \"\"\",\n",
    "                (conn_params[\"user\"],),\n",
    "            )\n",
    "            tables = cur.fetchall()\n",
    "\n",
    "            for table in tables:\n",
    "                print(\"-\", table[0])\n",
    "show_existing_tables()"
   ],
   "id": "c91b3afd2f46f9df",
   "outputs": [
    {
     "name": "stdout",
     "output_type": "stream",
     "text": [
      "- article\n",
      "- city\n",
      "- country\n",
      "- dim_date\n",
      "- dim_geo\n",
      "- dim_product\n",
      "- fact_sales\n",
      "- productcategory\n",
      "- productfamily\n",
      "- productgroup\n",
      "- region\n",
      "- shop\n"
     ]
    }
   ],
   "execution_count": 92
  },
  {
   "metadata": {
    "ExecuteTime": {
     "end_time": "2025-06-30T13:13:20.979498Z",
     "start_time": "2025-06-30T13:13:20.912983Z"
    }
   },
   "cell_type": "code",
   "source": [
    "with open('resources/sales.csv', 'rb') as f:\n",
    "    result = chardet.detect(f.read(10000))\n",
    "\n",
    "print(result)"
   ],
   "id": "45f5542699c8ba72",
   "outputs": [
    {
     "name": "stdout",
     "output_type": "stream",
     "text": [
      "{'encoding': 'ISO-8859-1', 'confidence': 0.73, 'language': ''}\n"
     ]
    }
   ],
   "execution_count": 93
  },
  {
   "metadata": {
    "ExecuteTime": {
     "end_time": "2025-06-30T13:13:24.671276Z",
     "start_time": "2025-06-30T13:13:24.629662Z"
    }
   },
   "cell_type": "code",
   "source": [
    "bad_lines = []\n",
    "with open('resources/sales.csv', encoding='ISO-8859-1') as f:\n",
    "    for i, line in enumerate(f, start=1):\n",
    "        if line.count(';') != 4:  # 4 Semikolons = 5 Spalten\n",
    "            bad_lines.append((i, line.strip()))\n",
    "\n",
    "for i, l in bad_lines:\n",
    "    print(f\"Fehler in Zeile {i}: {l}\")"
   ],
   "id": "d36cfb2d813d6333",
   "outputs": [
    {
     "name": "stdout",
     "output_type": "stream",
     "text": [
      "Fehler in Zeile 35906: 06.04.2019;12.03.2019;Superstore Dresden;AEG Öko Lavatherm 59850 Sensidry;3;2997,00\n"
     ]
    }
   ],
   "execution_count": 94
  },
  {
   "metadata": {
    "ExecuteTime": {
     "end_time": "2025-06-30T13:37:33.471866Z",
     "start_time": "2025-06-30T13:37:33.417835Z"
    }
   },
   "cell_type": "code",
   "source": [
    "def load_csv_data():\n",
    "    return pd.read_csv(\n",
    "        'resources/sales.csv',\n",
    "        encoding='ISO-8859-1',\n",
    "        sep=';',\n",
    "        decimal=',',\n",
    "        on_bad_lines='skip'\n",
    "    )\n",
    "\n",
    "df = load_csv_data()\n",
    "print(df.head())\n"
   ],
   "id": "6f044104fb29fba4",
   "outputs": [
    {
     "name": "stdout",
     "output_type": "stream",
     "text": [
      "         Date               Shop                           Article  Sold  \\\n",
      "0  01.01.2019  Superstore Berlin  AEG Öko Lavatherm 59850 Sensidry    25   \n",
      "1  01.01.2019  Superstore Berlin     AEG Öko-Lavamat Öko Plus 1400    25   \n",
      "2  01.01.2019  Superstore Berlin              Bauknecht TK Care 6B    13   \n",
      "3  01.01.2019  Superstore Berlin      Bauknecht WA Sensitive 36 DI     2   \n",
      "4  01.01.2019  Superstore Berlin                       BenQ DE350P    31   \n",
      "\n",
      "    Revenue  \n",
      "0  24975.00  \n",
      "1  14975.00  \n",
      "2   3639.74  \n",
      "3    699.80  \n",
      "4   8369.69  \n"
     ]
    }
   ],
   "execution_count": 4
  },
  {
   "metadata": {
    "ExecuteTime": {
     "end_time": "2025-06-30T13:13:34.514318Z",
     "start_time": "2025-06-30T13:13:34.433218Z"
    }
   },
   "cell_type": "code",
   "source": [
    "def create_star_schema_tables(conn):\n",
    "    with conn.cursor() as cur:\n",
    "        cur.execute(\"\"\"\n",
    "            CREATE TABLE IF NOT EXISTS dim_product (\n",
    "                product_id SERIAL PRIMARY KEY,\n",
    "                article_id INT,\n",
    "                article_name VARCHAR(255),\n",
    "                product_group_id INT,\n",
    "                product_group_name VARCHAR(255),\n",
    "                product_family_id INT,\n",
    "                product_family_name VARCHAR(255),\n",
    "                product_category_id INT,\n",
    "                product_category_name VARCHAR(255)\n",
    "            );\n",
    "        \"\"\")\n",
    "\n",
    "        cur.execute(\"\"\"\n",
    "            CREATE TABLE IF NOT EXISTS dim_geo (\n",
    "                geo_id SERIAL PRIMARY KEY,\n",
    "                shop_id INT,\n",
    "                shop_name VARCHAR(255),\n",
    "                city_id INT,\n",
    "                city_name VARCHAR(255),\n",
    "                region_id INT,\n",
    "                region_name VARCHAR(255),\n",
    "                country_id INT,\n",
    "                country_name VARCHAR(255)\n",
    "            );\n",
    "        \"\"\")\n",
    "\n",
    "        cur.execute(\"\"\"\n",
    "            CREATE TABLE IF NOT EXISTS dim_date (\n",
    "                date DATE PRIMARY KEY,\n",
    "                day INT,\n",
    "                month INT,\n",
    "                quarter INT,\n",
    "                year INT\n",
    "            );\n",
    "        \"\"\")\n",
    "\n",
    "        cur.execute(\"\"\"\n",
    "            CREATE TABLE IF NOT EXISTS fact_sales (\n",
    "                sales_id SERIAL PRIMARY KEY,\n",
    "                date Date,\n",
    "                geo_id INT,\n",
    "                product_id INT,\n",
    "                quantity INT,\n",
    "                revenue NUMERIC,\n",
    "\n",
    "                CONSTRAINT fk_date FOREIGN KEY (date) REFERENCES dim_date(date),\n",
    "                CONSTRAINT fk_geo FOREIGN KEY (geo_id) REFERENCES dim_geo(geo_id),\n",
    "                CONSTRAINT fk_product FOREIGN KEY (product_id) REFERENCES dim_product(product_id)\n",
    "            );\n",
    "        \"\"\")\n",
    "\n",
    "    conn.commit()\n",
    "    print(\"Star-Schema-Tabellen erfolgreich erstellt.\")\n",
    "\n",
    "with psycopg2.connect(**conn_params) as conn:\n",
    "    create_star_schema_tables(conn)"
   ],
   "id": "b337d55f28f87295",
   "outputs": [
    {
     "name": "stdout",
     "output_type": "stream",
     "text": [
      "Star-Schema-Tabellen erfolgreich erstellt.\n"
     ]
    }
   ],
   "execution_count": 96
  },
  {
   "metadata": {
    "ExecuteTime": {
     "end_time": "2025-06-30T13:13:39.639390Z",
     "start_time": "2025-06-30T13:13:39.637335Z"
    }
   },
   "cell_type": "code",
   "source": "",
   "id": "ba1c020402040656",
   "outputs": [],
   "execution_count": null
  },
  {
   "metadata": {
    "ExecuteTime": {
     "end_time": "2025-06-30T13:13:41.695890Z",
     "start_time": "2025-06-30T13:13:41.565527Z"
    }
   },
   "cell_type": "code",
   "source": [
    "def populate_dim_product(conn):\n",
    "    with conn.cursor() as cur:\n",
    "         cur.execute(\"\"\"\n",
    "            INSERT INTO dim_product (\n",
    "                article_id,\n",
    "                article_name,\n",
    "                product_group_id,\n",
    "                product_group_name,\n",
    "                product_family_id,\n",
    "                product_family_name,\n",
    "                product_category_id,\n",
    "                product_category_name\n",
    "            )\n",
    "            SELECT\n",
    "                a.ArticleID,\n",
    "                a.Name,\n",
    "                pg.ProductGroupID,\n",
    "                pg.Name,\n",
    "                pf.ProductFamilyID,\n",
    "                pf.Name,\n",
    "                pc.ProductCategoryID,\n",
    "                pc.Name\n",
    "            FROM Article a\n",
    "                INNER JOIN ProductGroup pg ON pg.productgroupid = a.productgroupid\n",
    "                INNER JOIN vsisp42.productfamily pf on pf.productfamilyid = pg.productfamilyid\n",
    "                INNER JOIN vsisp42.productcategory pc on pc.productcategoryid = pf.productcategoryid\n",
    "\n",
    "        \"\"\")\n",
    "    conn.commit()\n",
    "    print(\"dim_product erfolgreich befüllt.\")\n",
    "\n",
    "with psycopg2.connect(**conn_params) as conn:\n",
    "    populate_dim_product(conn)"
   ],
   "id": "fb9c1d9cef9d7d07",
   "outputs": [
    {
     "name": "stdout",
     "output_type": "stream",
     "text": [
      "dim_product erfolgreich befüllt.\n"
     ]
    }
   ],
   "execution_count": 97
  },
  {
   "metadata": {
    "ExecuteTime": {
     "end_time": "2025-06-30T13:14:34.264636Z",
     "start_time": "2025-06-30T13:14:34.207216Z"
    }
   },
   "cell_type": "code",
   "source": [
    "def populate_dim_geo(conn):\n",
    "    with conn.cursor() as cur:\n",
    "        cur.execute(\"\"\"\n",
    "            INSERT INTO dim_geo (\n",
    "                shop_id,\n",
    "                shop_name,\n",
    "                city_id,\n",
    "                city_name,\n",
    "                region_id,\n",
    "                region_name,\n",
    "                country_id,\n",
    "                country_name\n",
    "            )\n",
    "            SELECT\n",
    "                s.ShopID,\n",
    "                s.Name,\n",
    "                c.CityID,\n",
    "                c.Name,\n",
    "                r.RegionID,\n",
    "                r.Name,\n",
    "                co.CountryID,\n",
    "                co.Name\n",
    "            FROM Shop s\n",
    "                INNER JOIN City c ON s.CityID = c.CityID\n",
    "                INNER JOIN Region r ON c.RegionID = r.RegionID\n",
    "                INNER JOIN Country co ON r.CountryID = co.CountryID\n",
    "        \"\"\")\n",
    "    conn.commit()\n",
    "    print(\"dim_geo erfolgreich befüllt.\")\n",
    "\n",
    "with psycopg2.connect(**conn_params) as conn:\n",
    "    populate_dim_geo(conn)"
   ],
   "id": "5aa31f0ad398d8df",
   "outputs": [
    {
     "name": "stdout",
     "output_type": "stream",
     "text": [
      "dim_geo erfolgreich befüllt.\n"
     ]
    }
   ],
   "execution_count": 98
  },
  {
   "metadata": {
    "ExecuteTime": {
     "end_time": "2025-06-30T13:36:30.041108Z",
     "start_time": "2025-06-30T13:36:29.972701Z"
    }
   },
   "cell_type": "code",
   "source": [
    "def transform_data(df):\n",
    "    df['Date'] = pd.to_datetime(df['Date'], format='%d.%m.%Y', errors='coerce')\n",
    "    num_invalid_dates = df['Date'].isna().sum()\n",
    "    print(f'Entries: {len(df)}\\t number of invaled dates: {num_invalid_dates}')\n",
    "    print(df.head())\n",
    "    # df_sales = df_sales.dropna(subset=['Date'])\n",
    "\n",
    "df = load_csv_data()\n",
    "transform_data(df)"
   ],
   "id": "fc57225c60982ca0",
   "outputs": [
    {
     "name": "stdout",
     "output_type": "stream",
     "text": [
      "Entries: 77311\t number of invaled dates: 0\n",
      "        Date               Shop                           Article  Sold  \\\n",
      "0 2019-01-01  Superstore Berlin  AEG Öko Lavatherm 59850 Sensidry    25   \n",
      "1 2019-01-01  Superstore Berlin     AEG Öko-Lavamat Öko Plus 1400    25   \n",
      "2 2019-01-01  Superstore Berlin              Bauknecht TK Care 6B    13   \n",
      "3 2019-01-01  Superstore Berlin      Bauknecht WA Sensitive 36 DI     2   \n",
      "4 2019-01-01  Superstore Berlin                       BenQ DE350P    31   \n",
      "\n",
      "    Revenue  \n",
      "0  24975.00  \n",
      "1  14975.00  \n",
      "2   3639.74  \n",
      "3    699.80  \n",
      "4   8369.69  \n"
     ]
    }
   ],
   "execution_count": 7
  },
  {
   "metadata": {
    "ExecuteTime": {
     "end_time": "2025-06-30T13:14:44.023893Z",
     "start_time": "2025-06-30T13:14:42.514031Z"
    }
   },
   "cell_type": "code",
   "source": [
    "def populate_dim_date(conn, df_sales):\n",
    "\n",
    "    min_date = df_sales['Date'].min()\n",
    "    max_date = df_sales['Date'].max()\n",
    "\n",
    "    print(f\"Erzeuge Zeitdimension von {min_date.date()} bis {max_date.date()}\")\n",
    "\n",
    "    date_range = pd.date_range(start=min_date, end=max_date)\n",
    "\n",
    "    df_time = pd.DataFrame({'date': date_range})\n",
    "    df_time['day'] = df_time['date'].dt.day\n",
    "    df_time['month'] = df_time['date'].dt.month\n",
    "    df_time['quarter'] = df_time['date'].dt.quarter\n",
    "    df_time['year'] = df_time['date'].dt.year\n",
    "\n",
    "    with conn.cursor() as cur:\n",
    "        for _, row in df_time.iterrows():\n",
    "            cur.execute(\"\"\"\n",
    "                INSERT INTO dim_date (date, day, month, quarter, year)\n",
    "                VALUES (%s, %s, %s, %s, %s)\n",
    "            \"\"\", (row['date'], row['day'], row['month'], row['quarter'], row['year']))\n",
    "\n",
    "    conn.commit()\n",
    "    print(f\"DimTime befüllt mit {len(df_time)} Tagen.\")\n",
    "\n",
    "with psycopg2.connect(**conn_params) as conn:\n",
    "    populate_dim_date(conn, df)"
   ],
   "id": "d57f01cebdfd2072",
   "outputs": [
    {
     "name": "stdout",
     "output_type": "stream",
     "text": [
      "Erzeuge Zeitdimension von 2019-01-01 bis 2019-05-31\n",
      " DimTime befüllt mit 151 Tagen.\n"
     ]
    }
   ],
   "execution_count": 100
  },
  {
   "metadata": {
    "ExecuteTime": {
     "end_time": "2025-06-30T13:42:23.576528Z",
     "start_time": "2025-06-30T13:41:45.122436Z"
    }
   },
   "cell_type": "code",
   "source": [
    "def insert_fact_sales(conn, df_sales, batch_size=10000):\n",
    "    with conn.cursor() as cur:\n",
    "        # 1. Lookup-Tabellen in Dictionaries laden\n",
    "        cur.execute(\"SELECT date, date FROM dim_date\")\n",
    "        date_lookup = dict(cur.fetchall())\n",
    "\n",
    "        cur.execute(\"SELECT shop_name, geo_id FROM dim_geo\")\n",
    "        geo_lookup = dict(cur.fetchall())\n",
    "\n",
    "        cur.execute(\"SELECT article_name, product_id FROM dim_product\")\n",
    "        product_lookup = dict(cur.fetchall())\n",
    "\n",
    "        # 2. Sammle gültige Datensätze\n",
    "        records_to_insert = []\n",
    "\n",
    "        for _, row in df_sales.iterrows():\n",
    "            date_key = pd.to_datetime(row['Date'], dayfirst=True).date()\n",
    "            date = date_lookup.get(date_key)\n",
    "            geo_id = geo_lookup.get(row['Shop'])\n",
    "            product_id = product_lookup.get(row['Article'])\n",
    "\n",
    "            if not (date and geo_id and product_id):\n",
    "                print(f'skipped row: {row}')\n",
    "                print(f'date:{date}, geo_id:{geo_id}, product_id:{product_id}')\n",
    "                continue\n",
    "\n",
    "            records_to_insert.append((date, geo_id, product_id, row['Sold'], row['Revenue']))\n",
    "\n",
    "            # 3. Wenn Batch voll → Insert\n",
    "            if len(records_to_insert) >= batch_size:\n",
    "                execute_values(\n",
    "                    cur,\n",
    "                    \"\"\"\n",
    "                    INSERT INTO fact_sales (date, geo_id, product_id, quantity, revenue)\n",
    "                    VALUES %s\n",
    "                    \"\"\",\n",
    "                    records_to_insert\n",
    "                )\n",
    "                records_to_insert.clear()  # Liste leeren\n",
    "\n",
    "        # 4. Letzten Rest einfügen\n",
    "        if records_to_insert:\n",
    "            execute_values(\n",
    "                cur,\n",
    "                \"\"\"\n",
    "                INSERT INTO fact_sales (date, geo_id, product_id, quantity, revenue)\n",
    "                VALUES %s\n",
    "                \"\"\",\n",
    "                records_to_insert\n",
    "            )\n",
    "\n",
    "    conn.commit()\n",
    "    print(f\"FactSales erfolgreich befülltd.\")\n",
    "\n",
    "with psycopg2.connect(**conn_params) as conn:\n",
    "    insert_fact_sales(conn, df)\n"
   ],
   "id": "d4189800bc12874d",
   "outputs": [
    {
     "name": "stdout",
     "output_type": "stream",
     "text": [
      "continue\n",
      "FactSales erfolgreich befüllt mit insgesamt 77311 Zeilen (gültige Einträge: 77311).\n"
     ]
    }
   ],
   "execution_count": 10
  },
  {
   "metadata": {},
   "cell_type": "markdown",
   "source": "# Analysis",
   "id": "8ab5e3a008553f62"
  },
  {
   "metadata": {
    "ExecuteTime": {
     "end_time": "2025-06-30T20:13:07.347549Z",
     "start_time": "2025-06-30T20:13:06.633049Z"
    }
   },
   "cell_type": "code",
   "source": [
    "def analyse_data(conn):\n",
    "    with conn.cursor() as cur:\n",
    "        query = \"\"\"\n",
    "        SELECT\n",
    "            g.region_name AS region,\n",
    "            d.quarter,\n",
    "            d.year,\n",
    "            p.article_name AS product,\n",
    "            SUM(f.quantity) AS sales\n",
    "        FROM fact_sales f\n",
    "            INNER JOIN dim_geo g ON g.geo_id = f.geo_id\n",
    "            INNER JOIN dim_product p ON p.product_id = f.product_id\n",
    "            INNER JOIN dim_date d ON d.date = f.date\n",
    "        GROUP BY g.region_name, d.quarter, d.year, p.article_name\n",
    "        ORDER BY g.region_name, d.year, d.quarter, p.article_name;\n",
    "        \"\"\"\n",
    "\n",
    "        cur.execute(query)\n",
    "        rows = cur.fetchall()\n",
    "        columns = [desc[0] for desc in cur.description]\n",
    "        df = pd.DataFrame(rows, columns=columns)\n",
    "\n",
    "    df['sales_time'] = 'quarter ' + df['quarter'].astype(str) + ', ' + df['year'].astype(str)\n",
    "\n",
    "    pivot = df.pivot_table(\n",
    "        index=['region', 'sales_time'],\n",
    "        columns='product',\n",
    "        values='sales',\n",
    "        aggfunc='sum',\n",
    "        fill_value=0\n",
    "    ).reset_index()\n",
    "\n",
    "    # Zwischensumme je Region\n",
    "    region_totals = pivot.groupby('region').sum(numeric_only=True)\n",
    "    region_totals['sales_time'] = 'total'\n",
    "    region_totals = region_totals.reset_index()\n",
    "\n",
    "    # Gesamttotal\n",
    "    grand_total = pivot.drop(columns=['region', 'sales_time']).sum(numeric_only=True).to_frame().T\n",
    "    grand_total['region'] = 'total'\n",
    "    grand_total['sales_time'] = 'total'\n",
    "\n",
    "    # Zusammenführen\n",
    "    result = pd.concat([pivot, region_totals, grand_total], ignore_index=True)\n",
    "\n",
    "    # Sortierung vorbereiten\n",
    "    def extract_quarter_year(s):\n",
    "        if s == 'total':\n",
    "            return 999, 9999\n",
    "        quarter = int(s.split('quarter ')[1].split(',')[0].strip())\n",
    "        year = int(s.split(', ')[1])\n",
    "        return quarter, year\n",
    "\n",
    "    result[['time_quarter', 'time_year']] = result['sales_time'].apply(\n",
    "        lambda x: pd.Series(extract_quarter_year(x))\n",
    "    )\n",
    "\n",
    "    result['region_order'] = result['region'].apply(lambda x: 'zzz' if x == 'total' else x)\n",
    "\n",
    "    result = result.sort_values(by=['region_order', 'region', 'time_year', 'time_quarter']).drop(\n",
    "        columns=['region_order', 'time_quarter', 'time_year']\n",
    "    )\n",
    "\n",
    "\n",
    "    # 'total'-Spalte: Summe aller Produkte pro Zeile\n",
    "    produktspalten = result.columns.difference(['region', 'sales_time'])\n",
    "    result['total'] = result[produktspalten].sum(axis=1)\n",
    "\n",
    "    print(tabulate.tabulate(result, headers='keys', tablefmt='grid'))\n",
    "\n",
    "\n",
    "with psycopg2.connect(**conn_params) as conn:\n",
    "    analyse_data(conn)\n"
   ],
   "id": "e780d5f601b095a6",
   "outputs": [
    {
     "name": "stdout",
     "output_type": "stream",
     "text": [
      "+----+------------------------+-----------------+------------------------------------+---------------------------------+------------------------+--------------------------------+---------------+-----------------------------------+-------------------+-------------------+------------------+-------------------+-----------------------+----------------------------------------+-------------------------+-------------------+-----------------+-----------------------+---------------+-----------------------------+-------------------------------+-----------------+-----------------+-----------------------+---------------------+---------------------+------------------+------------------+----------------------+------------------------+-----------------------+----------------------+-----------------------------+------------------+---------+\n",
      "|    | region                 | sales_time      |   AEG Öko Lavatherm 59850 Sensidry |   AEG Öko-Lavamat Öko Plus 1400 |   Bauknecht TK Care 6B |   Bauknecht WA Sensitive 36 DI |   BenQ DE350P |   Bosch Rotak 43 LI (Modell 2009) |   Bosch WAE 2834P |   Bosch WTE 84301 |   Brill 28 VE/RL |   Denon DCD-710AE |   Einhell RPM 56 S-MS |   Gardena CS Vertikutier-Boy (3395-20) |   Gardena PowerMax 42 E |   Güde GV 2400 SL |   Jaytec DJT-20 |   Kodak Zx3 Playsport |   LG RH-T 298 |   Miele Softtronic T 7744 C |   Miele Softtronic W 3241 WPS |   Numark TT1650 |   Onkyo DX-7355 |   Panasonic HDC-SD707 |   Pioneer DVR-550HX |   Samsung DVD-SR275 |   Sony CDP-XE370 |   Sony HDR-CX115 |   Sony PS-LX 300 USB |   Technics SL-1210 MK5 |   Toshiba Camileo S20 |   Wolf-Garten 2.34 E |   Wolf-Garten Campus 1000 V |   Yamaha CDX-497 |   total |\n",
      "+====+========================+=================+====================================+=================================+========================+================================+===============+===================================+===================+===================+==================+===================+=======================+========================================+=========================+===================+=================+=======================+===============+=============================+===============================+=================+=================+=======================+=====================+=====================+==================+==================+======================+========================+=======================+======================+=============================+==================+=========+\n",
      "|  0 | Baden-Württemberg      | quarter 1, 2019 |                               1996 |                            2456 |                   2257 |                           2170 |          2203 |                              2306 |              2284 |              2213 |             2004 |              2008 |                  1839 |                                   2014 |                    2026 |              2279 |            2440 |                  2069 |          2229 |                        2489 |                          2371 |            2139 |            2055 |                  2207 |                2070 |                2325 |             2211 |             2096 |                 2504 |                   2279 |                  2166 |                 2288 |                        2078 |             2180 |   70251 |\n",
      "+----+------------------------+-----------------+------------------------------------+---------------------------------+------------------------+--------------------------------+---------------+-----------------------------------+-------------------+-------------------+------------------+-------------------+-----------------------+----------------------------------------+-------------------------+-------------------+-----------------+-----------------------+---------------+-----------------------------+-------------------------------+-----------------+-----------------+-----------------------+---------------------+---------------------+------------------+------------------+----------------------+------------------------+-----------------------+----------------------+-----------------------------+------------------+---------+\n",
      "|  1 | Baden-Württemberg      | quarter 2, 2019 |                               1426 |                            1300 |                   1641 |                           1614 |          1616 |                              1450 |              1523 |              1394 |             1576 |              1442 |                  1477 |                                   1463 |                    1431 |              1248 |            1521 |                  1341 |          1551 |                        1497 |                          1623 |            1529 |            1484 |                  1537 |                1482 |                1557 |             1780 |             1337 |                 1361 |                   1414 |                  1543 |                 1421 |                        1411 |             1603 |   47593 |\n",
      "+----+------------------------+-----------------+------------------------------------+---------------------------------+------------------------+--------------------------------+---------------+-----------------------------------+-------------------+-------------------+------------------+-------------------+-----------------------+----------------------------------------+-------------------------+-------------------+-----------------+-----------------------+---------------+-----------------------------+-------------------------------+-----------------+-----------------+-----------------------+---------------------+---------------------+------------------+------------------+----------------------+------------------------+-----------------------+----------------------+-----------------------------+------------------+---------+\n",
      "| 32 | Baden-Württemberg      | total           |                               3422 |                            3756 |                   3898 |                           3784 |          3819 |                              3756 |              3807 |              3607 |             3580 |              3450 |                  3316 |                                   3477 |                    3457 |              3527 |            3961 |                  3410 |          3780 |                        3986 |                          3994 |            3668 |            3539 |                  3744 |                3552 |                3882 |             3991 |             3433 |                 3865 |                   3693 |                  3709 |                 3709 |                        3489 |             3783 |  117844 |\n",
      "+----+------------------------+-----------------+------------------------------------+---------------------------------+------------------------+--------------------------------+---------------+-----------------------------------+-------------------+-------------------+------------------+-------------------+-----------------------+----------------------------------------+-------------------------+-------------------+-----------------+-----------------------+---------------+-----------------------------+-------------------------------+-----------------+-----------------+-----------------------+---------------------+---------------------+------------------+------------------+----------------------+------------------------+-----------------------+----------------------+-----------------------------+------------------+---------+\n",
      "|  2 | Bayern                 | quarter 1, 2019 |                               2245 |                            2233 |                   2133 |                           2194 |          2264 |                              2115 |              2340 |              2204 |             2040 |              2231 |                  2165 |                                   2297 |                    2185 |              2278 |            2065 |                  2206 |          2255 |                        2063 |                          2332 |            2298 |            2109 |                  2103 |                1897 |                2185 |             2241 |             2308 |                 2074 |                   2354 |                  2344 |                 2028 |                        2300 |             2291 |   70377 |\n",
      "+----+------------------------+-----------------+------------------------------------+---------------------------------+------------------------+--------------------------------+---------------+-----------------------------------+-------------------+-------------------+------------------+-------------------+-----------------------+----------------------------------------+-------------------------+-------------------+-----------------+-----------------------+---------------+-----------------------------+-------------------------------+-----------------+-----------------+-----------------------+---------------------+---------------------+------------------+------------------+----------------------+------------------------+-----------------------+----------------------+-----------------------------+------------------+---------+\n",
      "|  3 | Bayern                 | quarter 2, 2019 |                               1313 |                            1645 |                   1535 |                           1332 |          1616 |                              1553 |              1312 |              1390 |             1487 |              1401 |                  1463 |                                   1464 |                    1437 |              1520 |            1435 |                  1626 |          1327 |                        1593 |                          1682 |            1445 |            1641 |                  1556 |                1338 |                1453 |             1636 |             1541 |                 1345 |                   1551 |                  1503 |                 1542 |                        1368 |             1520 |   47570 |\n",
      "+----+------------------------+-----------------+------------------------------------+---------------------------------+------------------------+--------------------------------+---------------+-----------------------------------+-------------------+-------------------+------------------+-------------------+-----------------------+----------------------------------------+-------------------------+-------------------+-----------------+-----------------------+---------------+-----------------------------+-------------------------------+-----------------+-----------------+-----------------------+---------------------+---------------------+------------------+------------------+----------------------+------------------------+-----------------------+----------------------+-----------------------------+------------------+---------+\n",
      "| 33 | Bayern                 | total           |                               3558 |                            3878 |                   3668 |                           3526 |          3880 |                              3668 |              3652 |              3594 |             3527 |              3632 |                  3628 |                                   3761 |                    3622 |              3798 |            3500 |                  3832 |          3582 |                        3656 |                          4014 |            3743 |            3750 |                  3659 |                3235 |                3638 |             3877 |             3849 |                 3419 |                   3905 |                  3847 |                 3570 |                        3668 |             3811 |  117947 |\n",
      "+----+------------------------+-----------------+------------------------------------+---------------------------------+------------------------+--------------------------------+---------------+-----------------------------------+-------------------+-------------------+------------------+-------------------+-----------------------+----------------------------------------+-------------------------+-------------------+-----------------+-----------------------+---------------+-----------------------------+-------------------------------+-----------------+-----------------+-----------------------+---------------------+---------------------+------------------+------------------+----------------------+------------------------+-----------------------+----------------------+-----------------------------+------------------+---------+\n",
      "|  4 | Berlin                 | quarter 1, 2019 |                               2442 |                            2179 |                   2317 |                           2348 |          2351 |                              2361 |              2121 |              2112 |             2262 |              1982 |                  2138 |                                   2397 |                    1975 |              2098 |            2245 |                  2286 |          2253 |                        2201 |                          2328 |            2118 |            2340 |                  2220 |                2063 |                2222 |             2048 |             2184 |                 2230 |                   2189 |                  2294 |                 2242 |                        2256 |             2168 |   70970 |\n",
      "+----+------------------------+-----------------+------------------------------------+---------------------------------+------------------------+--------------------------------+---------------+-----------------------------------+-------------------+-------------------+------------------+-------------------+-----------------------+----------------------------------------+-------------------------+-------------------+-----------------+-----------------------+---------------+-----------------------------+-------------------------------+-----------------+-----------------+-----------------------+---------------------+---------------------+------------------+------------------+----------------------+------------------------+-----------------------+----------------------+-----------------------------+------------------+---------+\n",
      "|  5 | Berlin                 | quarter 2, 2019 |                               1573 |                            1456 |                   1518 |                           1443 |          1404 |                              1584 |              1265 |              1502 |             1482 |              1553 |                  1770 |                                   1500 |                    1484 |              1407 |            1335 |                  1563 |          1530 |                        1475 |                          1566 |            1648 |            1631 |                  1260 |                1468 |                1538 |             1552 |             1487 |                 1533 |                   1386 |                  1522 |                 1444 |                        1498 |             1723 |   48100 |\n",
      "+----+------------------------+-----------------+------------------------------------+---------------------------------+------------------------+--------------------------------+---------------+-----------------------------------+-------------------+-------------------+------------------+-------------------+-----------------------+----------------------------------------+-------------------------+-------------------+-----------------+-----------------------+---------------+-----------------------------+-------------------------------+-----------------+-----------------+-----------------------+---------------------+---------------------+------------------+------------------+----------------------+------------------------+-----------------------+----------------------+-----------------------------+------------------+---------+\n",
      "| 34 | Berlin                 | total           |                               4015 |                            3635 |                   3835 |                           3791 |          3755 |                              3945 |              3386 |              3614 |             3744 |              3535 |                  3908 |                                   3897 |                    3459 |              3505 |            3580 |                  3849 |          3783 |                        3676 |                          3894 |            3766 |            3971 |                  3480 |                3531 |                3760 |             3600 |             3671 |                 3763 |                   3575 |                  3816 |                 3686 |                        3754 |             3891 |  119070 |\n",
      "+----+------------------------+-----------------+------------------------------------+---------------------------------+------------------------+--------------------------------+---------------+-----------------------------------+-------------------+-------------------+------------------+-------------------+-----------------------+----------------------------------------+-------------------------+-------------------+-----------------+-----------------------+---------------+-----------------------------+-------------------------------+-----------------+-----------------+-----------------------+---------------------+---------------------+------------------+------------------+----------------------+------------------------+-----------------------+----------------------+-----------------------------+------------------+---------+\n",
      "|  6 | Brandenburg            | quarter 1, 2019 |                               2282 |                            2313 |                   2253 |                           1975 |          2213 |                              2219 |              2088 |              2333 |             2328 |              2247 |                  2093 |                                   2447 |                    1884 |              2148 |            2181 |                  2223 |          2045 |                        2278 |                          2037 |            2123 |            2001 |                  2277 |                2136 |                2299 |             2328 |             2107 |                 2282 |                   2312 |                  2168 |                 2345 |                        2141 |             2354 |   70460 |\n",
      "+----+------------------------+-----------------+------------------------------------+---------------------------------+------------------------+--------------------------------+---------------+-----------------------------------+-------------------+-------------------+------------------+-------------------+-----------------------+----------------------------------------+-------------------------+-------------------+-----------------+-----------------------+---------------+-----------------------------+-------------------------------+-----------------+-----------------+-----------------------+---------------------+---------------------+------------------+------------------+----------------------+------------------------+-----------------------+----------------------+-----------------------------+------------------+---------+\n",
      "|  7 | Brandenburg            | quarter 2, 2019 |                               1359 |                            1510 |                   1524 |                           1583 |          1562 |                              1617 |              1682 |              1606 |             1375 |              1345 |                  1472 |                                   1647 |                    1572 |              1343 |            1281 |                  1369 |          1422 |                        1332 |                          1457 |            1368 |            1505 |                  1286 |                1365 |                1389 |             1527 |             1459 |                 1604 |                   1617 |                  1551 |                 1312 |                        1276 |             1423 |   46740 |\n",
      "+----+------------------------+-----------------+------------------------------------+---------------------------------+------------------------+--------------------------------+---------------+-----------------------------------+-------------------+-------------------+------------------+-------------------+-----------------------+----------------------------------------+-------------------------+-------------------+-----------------+-----------------------+---------------+-----------------------------+-------------------------------+-----------------+-----------------+-----------------------+---------------------+---------------------+------------------+------------------+----------------------+------------------------+-----------------------+----------------------+-----------------------------+------------------+---------+\n",
      "| 35 | Brandenburg            | total           |                               3641 |                            3823 |                   3777 |                           3558 |          3775 |                              3836 |              3770 |              3939 |             3703 |              3592 |                  3565 |                                   4094 |                    3456 |              3491 |            3462 |                  3592 |          3467 |                        3610 |                          3494 |            3491 |            3506 |                  3563 |                3501 |                3688 |             3855 |             3566 |                 3886 |                   3929 |                  3719 |                 3657 |                        3417 |             3777 |  117200 |\n",
      "+----+------------------------+-----------------+------------------------------------+---------------------------------+------------------------+--------------------------------+---------------+-----------------------------------+-------------------+-------------------+------------------+-------------------+-----------------------+----------------------------------------+-------------------------+-------------------+-----------------+-----------------------+---------------+-----------------------------+-------------------------------+-----------------+-----------------+-----------------------+---------------------+---------------------+------------------+------------------+----------------------+------------------------+-----------------------+----------------------+-----------------------------+------------------+---------+\n",
      "|  8 | Bremen                 | quarter 1, 2019 |                               1970 |                            2208 |                   2290 |                           2155 |          2484 |                              2192 |              2316 |              2136 |             1819 |              2302 |                  2164 |                                   2088 |                    2274 |              2204 |            2429 |                  2259 |          2149 |                        2147 |                          2324 |            2198 |            2213 |                  2414 |                2082 |                2281 |             2232 |             2397 |                 2098 |                   1766 |                  1992 |                 2357 |                        2301 |             2156 |   70397 |\n",
      "+----+------------------------+-----------------+------------------------------------+---------------------------------+------------------------+--------------------------------+---------------+-----------------------------------+-------------------+-------------------+------------------+-------------------+-----------------------+----------------------------------------+-------------------------+-------------------+-----------------+-----------------------+---------------+-----------------------------+-------------------------------+-----------------+-----------------+-----------------------+---------------------+---------------------+------------------+------------------+----------------------+------------------------+-----------------------+----------------------+-----------------------------+------------------+---------+\n",
      "|  9 | Bremen                 | quarter 2, 2019 |                               1452 |                            1580 |                   1401 |                           1365 |          1556 |                              1442 |              1645 |              1538 |             1436 |              1364 |                  1416 |                                   1459 |                    1399 |              1191 |            1535 |                  1382 |          1229 |                        1356 |                          1623 |            1578 |            1521 |                  1385 |                1451 |                1590 |             1449 |             1380 |                 1530 |                   1418 |                  1401 |                 1420 |                        1629 |             1501 |   46622 |\n",
      "+----+------------------------+-----------------+------------------------------------+---------------------------------+------------------------+--------------------------------+---------------+-----------------------------------+-------------------+-------------------+------------------+-------------------+-----------------------+----------------------------------------+-------------------------+-------------------+-----------------+-----------------------+---------------+-----------------------------+-------------------------------+-----------------+-----------------+-----------------------+---------------------+---------------------+------------------+------------------+----------------------+------------------------+-----------------------+----------------------+-----------------------------+------------------+---------+\n",
      "| 36 | Bremen                 | total           |                               3422 |                            3788 |                   3691 |                           3520 |          4040 |                              3634 |              3961 |              3674 |             3255 |              3666 |                  3580 |                                   3547 |                    3673 |              3395 |            3964 |                  3641 |          3378 |                        3503 |                          3947 |            3776 |            3734 |                  3799 |                3533 |                3871 |             3681 |             3777 |                 3628 |                   3184 |                  3393 |                 3777 |                        3930 |             3657 |  117019 |\n",
      "+----+------------------------+-----------------+------------------------------------+---------------------------------+------------------------+--------------------------------+---------------+-----------------------------------+-------------------+-------------------+------------------+-------------------+-----------------------+----------------------------------------+-------------------------+-------------------+-----------------+-----------------------+---------------+-----------------------------+-------------------------------+-----------------+-----------------+-----------------------+---------------------+---------------------+------------------+------------------+----------------------+------------------------+-----------------------+----------------------+-----------------------------+------------------+---------+\n",
      "| 10 | Hamburg                | quarter 1, 2019 |                               2093 |                            2181 |                   2248 |                           2225 |          2092 |                              2175 |              2331 |              2233 |             2139 |              2069 |                  2138 |                                   2157 |                    2097 |              2407 |            2161 |                  1912 |          2454 |                        1986 |                          2153 |            2310 |            1985 |                  2218 |                2410 |                2067 |             1938 |             2377 |                 2138 |                   2281 |                  2273 |                 2105 |                        2259 |             2323 |   69935 |\n",
      "+----+------------------------+-----------------+------------------------------------+---------------------------------+------------------------+--------------------------------+---------------+-----------------------------------+-------------------+-------------------+------------------+-------------------+-----------------------+----------------------------------------+-------------------------+-------------------+-----------------+-----------------------+---------------+-----------------------------+-------------------------------+-----------------+-----------------+-----------------------+---------------------+---------------------+------------------+------------------+----------------------+------------------------+-----------------------+----------------------+-----------------------------+------------------+---------+\n",
      "| 11 | Hamburg                | quarter 2, 2019 |                               1400 |                            1523 |                   1436 |                           1623 |          1619 |                              1454 |              1551 |              1496 |             1642 |              1489 |                  1413 |                                   1537 |                    1542 |              1378 |            1408 |                  1449 |          1700 |                        1632 |                          1415 |            1369 |            1523 |                  1555 |                1499 |                1441 |             1448 |             1411 |                 1476 |                   1417 |                  1583 |                 1391 |                        1525 |             1490 |   47835 |\n",
      "+----+------------------------+-----------------+------------------------------------+---------------------------------+------------------------+--------------------------------+---------------+-----------------------------------+-------------------+-------------------+------------------+-------------------+-----------------------+----------------------------------------+-------------------------+-------------------+-----------------+-----------------------+---------------+-----------------------------+-------------------------------+-----------------+-----------------+-----------------------+---------------------+---------------------+------------------+------------------+----------------------+------------------------+-----------------------+----------------------+-----------------------------+------------------+---------+\n",
      "| 37 | Hamburg                | total           |                               3493 |                            3704 |                   3684 |                           3848 |          3711 |                              3629 |              3882 |              3729 |             3781 |              3558 |                  3551 |                                   3694 |                    3639 |              3785 |            3569 |                  3361 |          4154 |                        3618 |                          3568 |            3679 |            3508 |                  3773 |                3909 |                3508 |             3386 |             3788 |                 3614 |                   3698 |                  3856 |                 3496 |                        3784 |             3813 |  117770 |\n",
      "+----+------------------------+-----------------+------------------------------------+---------------------------------+------------------------+--------------------------------+---------------+-----------------------------------+-------------------+-------------------+------------------+-------------------+-----------------------+----------------------------------------+-------------------------+-------------------+-----------------+-----------------------+---------------+-----------------------------+-------------------------------+-----------------+-----------------+-----------------------+---------------------+---------------------+------------------+------------------+----------------------+------------------------+-----------------------+----------------------+-----------------------------+------------------+---------+\n",
      "| 12 | Hessen                 | quarter 1, 2019 |                               2139 |                            2274 |                   2302 |                           2149 |          2201 |                              2238 |              2272 |              2135 |             1758 |              2393 |                  2171 |                                   2206 |                    2229 |              2268 |            2140 |                  1885 |          2018 |                        2237 |                          2198 |            2166 |            2065 |                  2319 |                2285 |                2273 |             2000 |             2315 |                 2117 |                   2278 |                  2146 |                 2102 |                        1953 |             2410 |   69642 |\n",
      "+----+------------------------+-----------------+------------------------------------+---------------------------------+------------------------+--------------------------------+---------------+-----------------------------------+-------------------+-------------------+------------------+-------------------+-----------------------+----------------------------------------+-------------------------+-------------------+-----------------+-----------------------+---------------+-----------------------------+-------------------------------+-----------------+-----------------+-----------------------+---------------------+---------------------+------------------+------------------+----------------------+------------------------+-----------------------+----------------------+-----------------------------+------------------+---------+\n",
      "| 13 | Hessen                 | quarter 2, 2019 |                               1334 |                            1355 |                   1635 |                           1641 |          1599 |                              1788 |              1466 |              1775 |             1504 |              1379 |                  1387 |                                   1615 |                    1503 |              1204 |            1435 |                  1562 |          1521 |                        1440 |                          1428 |            1445 |            1809 |                  1267 |                1567 |                1437 |             1432 |             1526 |                 1455 |                   1491 |                  1392 |                 1485 |                        1398 |             1538 |   47813 |\n",
      "+----+------------------------+-----------------+------------------------------------+---------------------------------+------------------------+--------------------------------+---------------+-----------------------------------+-------------------+-------------------+------------------+-------------------+-----------------------+----------------------------------------+-------------------------+-------------------+-----------------+-----------------------+---------------+-----------------------------+-------------------------------+-----------------+-----------------+-----------------------+---------------------+---------------------+------------------+------------------+----------------------+------------------------+-----------------------+----------------------+-----------------------------+------------------+---------+\n",
      "| 38 | Hessen                 | total           |                               3473 |                            3629 |                   3937 |                           3790 |          3800 |                              4026 |              3738 |              3910 |             3262 |              3772 |                  3558 |                                   3821 |                    3732 |              3472 |            3575 |                  3447 |          3539 |                        3677 |                          3626 |            3611 |            3874 |                  3586 |                3852 |                3710 |             3432 |             3841 |                 3572 |                   3769 |                  3538 |                 3587 |                        3351 |             3948 |  117455 |\n",
      "+----+------------------------+-----------------+------------------------------------+---------------------------------+------------------------+--------------------------------+---------------+-----------------------------------+-------------------+-------------------+------------------+-------------------+-----------------------+----------------------------------------+-------------------------+-------------------+-----------------+-----------------------+---------------+-----------------------------+-------------------------------+-----------------+-----------------+-----------------------+---------------------+---------------------+------------------+------------------+----------------------+------------------------+-----------------------+----------------------+-----------------------------+------------------+---------+\n",
      "| 14 | Mecklenburg-Vorpommern | quarter 1, 2019 |                               2084 |                            2184 |                   1855 |                           2256 |          2310 |                              2256 |              2255 |              2174 |             2379 |              2273 |                  2153 |                                   2221 |                    2276 |              2090 |            2325 |                  2229 |          2080 |                        2148 |                          2116 |            2259 |            2163 |                  2229 |                1950 |                2152 |             2048 |             2327 |                 2118 |                   2386 |                  1927 |                 2293 |                        2323 |             2069 |   69908 |\n",
      "+----+------------------------+-----------------+------------------------------------+---------------------------------+------------------------+--------------------------------+---------------+-----------------------------------+-------------------+-------------------+------------------+-------------------+-----------------------+----------------------------------------+-------------------------+-------------------+-----------------+-----------------------+---------------+-----------------------------+-------------------------------+-----------------+-----------------+-----------------------+---------------------+---------------------+------------------+------------------+----------------------+------------------------+-----------------------+----------------------+-----------------------------+------------------+---------+\n",
      "| 15 | Mecklenburg-Vorpommern | quarter 2, 2019 |                               1564 |                            1368 |                   1514 |                           1524 |          1500 |                              1657 |              1348 |              1565 |             1546 |              1472 |                  1377 |                                   1404 |                    1546 |              1640 |            1516 |                  1542 |          1391 |                        1612 |                          1488 |            1415 |            1403 |                  1643 |                1305 |                1448 |             1492 |             1268 |                 1559 |                   1328 |                  1500 |                 1576 |                        1447 |             1546 |   47504 |\n",
      "+----+------------------------+-----------------+------------------------------------+---------------------------------+------------------------+--------------------------------+---------------+-----------------------------------+-------------------+-------------------+------------------+-------------------+-----------------------+----------------------------------------+-------------------------+-------------------+-----------------+-----------------------+---------------+-----------------------------+-------------------------------+-----------------+-----------------+-----------------------+---------------------+---------------------+------------------+------------------+----------------------+------------------------+-----------------------+----------------------+-----------------------------+------------------+---------+\n",
      "| 39 | Mecklenburg-Vorpommern | total           |                               3648 |                            3552 |                   3369 |                           3780 |          3810 |                              3913 |              3603 |              3739 |             3925 |              3745 |                  3530 |                                   3625 |                    3822 |              3730 |            3841 |                  3771 |          3471 |                        3760 |                          3604 |            3674 |            3566 |                  3872 |                3255 |                3600 |             3540 |             3595 |                 3677 |                   3714 |                  3427 |                 3869 |                        3770 |             3615 |  117412 |\n",
      "+----+------------------------+-----------------+------------------------------------+---------------------------------+------------------------+--------------------------------+---------------+-----------------------------------+-------------------+-------------------+------------------+-------------------+-----------------------+----------------------------------------+-------------------------+-------------------+-----------------+-----------------------+---------------+-----------------------------+-------------------------------+-----------------+-----------------+-----------------------+---------------------+---------------------+------------------+------------------+----------------------+------------------------+-----------------------+----------------------+-----------------------------+------------------+---------+\n",
      "| 16 | Niedersachsen          | quarter 1, 2019 |                               2269 |                            2054 |                   2104 |                           2179 |          2206 |                              2258 |              2154 |              2319 |             2106 |              2166 |                  2004 |                                   1986 |                    2168 |              2332 |            2372 |                  2357 |          2090 |                        2237 |                          2365 |            2066 |            2109 |                  2390 |                2505 |                2112 |             2384 |             2208 |                 2364 |                   2212 |                  2382 |                 2227 |                        2130 |             2196 |   71011 |\n",
      "+----+------------------------+-----------------+------------------------------------+---------------------------------+------------------------+--------------------------------+---------------+-----------------------------------+-------------------+-------------------+------------------+-------------------+-----------------------+----------------------------------------+-------------------------+-------------------+-----------------+-----------------------+---------------+-----------------------------+-------------------------------+-----------------+-----------------+-----------------------+---------------------+---------------------+------------------+------------------+----------------------+------------------------+-----------------------+----------------------+-----------------------------+------------------+---------+\n",
      "| 17 | Niedersachsen          | quarter 2, 2019 |                               1225 |                            1545 |                   1668 |                           1311 |          1504 |                              1580 |              1570 |              1319 |             1456 |              1656 |                  1553 |                                   1532 |                    1477 |              1470 |            1485 |                  1577 |          1486 |                        1542 |                          1502 |            1431 |            1333 |                  1489 |                1651 |                1469 |             1531 |             1479 |                 1336 |                   1588 |                  1605 |                 1777 |                        1647 |             1567 |   48361 |\n",
      "+----+------------------------+-----------------+------------------------------------+---------------------------------+------------------------+--------------------------------+---------------+-----------------------------------+-------------------+-------------------+------------------+-------------------+-----------------------+----------------------------------------+-------------------------+-------------------+-----------------+-----------------------+---------------+-----------------------------+-------------------------------+-----------------+-----------------+-----------------------+---------------------+---------------------+------------------+------------------+----------------------+------------------------+-----------------------+----------------------+-----------------------------+------------------+---------+\n",
      "| 40 | Niedersachsen          | total           |                               3494 |                            3599 |                   3772 |                           3490 |          3710 |                              3838 |              3724 |              3638 |             3562 |              3822 |                  3557 |                                   3518 |                    3645 |              3802 |            3857 |                  3934 |          3576 |                        3779 |                          3867 |            3497 |            3442 |                  3879 |                4156 |                3581 |             3915 |             3687 |                 3700 |                   3800 |                  3987 |                 4004 |                        3777 |             3763 |  119372 |\n",
      "+----+------------------------+-----------------+------------------------------------+---------------------------------+------------------------+--------------------------------+---------------+-----------------------------------+-------------------+-------------------+------------------+-------------------+-----------------------+----------------------------------------+-------------------------+-------------------+-----------------+-----------------------+---------------+-----------------------------+-------------------------------+-----------------+-----------------+-----------------------+---------------------+---------------------+------------------+------------------+----------------------+------------------------+-----------------------+----------------------+-----------------------------+------------------+---------+\n",
      "| 18 | Nordrhein-Westfalen    | quarter 1, 2019 |                               2325 |                            2298 |                   2187 |                           2077 |          2092 |                              2346 |              2075 |              2374 |             2268 |              2296 |                  2235 |                                   2187 |                    2290 |              2078 |            2302 |                  2152 |          2486 |                        2262 |                          2259 |            2017 |            2342 |                  2064 |                2083 |                2217 |             2351 |             2424 |                 2307 |                   2070 |                  2090 |                 2236 |                        2184 |             2046 |   71020 |\n",
      "+----+------------------------+-----------------+------------------------------------+---------------------------------+------------------------+--------------------------------+---------------+-----------------------------------+-------------------+-------------------+------------------+-------------------+-----------------------+----------------------------------------+-------------------------+-------------------+-----------------+-----------------------+---------------+-----------------------------+-------------------------------+-----------------+-----------------+-----------------------+---------------------+---------------------+------------------+------------------+----------------------+------------------------+-----------------------+----------------------+-----------------------------+------------------+---------+\n",
      "| 19 | Nordrhein-Westfalen    | quarter 2, 2019 |                               1578 |                            1466 |                   1424 |                           1413 |          1448 |                              1585 |              1539 |              1447 |             1378 |              1256 |                  1312 |                                   1329 |                    1262 |              1450 |            1427 |                  1450 |          1355 |                        1612 |                          1431 |            1568 |            1519 |                  1382 |                1426 |                1409 |             1583 |             1316 |                 1599 |                   1525 |                  1648 |                 1482 |                        1352 |             1544 |   46515 |\n",
      "+----+------------------------+-----------------+------------------------------------+---------------------------------+------------------------+--------------------------------+---------------+-----------------------------------+-------------------+-------------------+------------------+-------------------+-----------------------+----------------------------------------+-------------------------+-------------------+-----------------+-----------------------+---------------+-----------------------------+-------------------------------+-----------------+-----------------+-----------------------+---------------------+---------------------+------------------+------------------+----------------------+------------------------+-----------------------+----------------------+-----------------------------+------------------+---------+\n",
      "| 41 | Nordrhein-Westfalen    | total           |                               3903 |                            3764 |                   3611 |                           3490 |          3540 |                              3931 |              3614 |              3821 |             3646 |              3552 |                  3547 |                                   3516 |                    3552 |              3528 |            3729 |                  3602 |          3841 |                        3874 |                          3690 |            3585 |            3861 |                  3446 |                3509 |                3626 |             3934 |             3740 |                 3906 |                   3595 |                  3738 |                 3718 |                        3536 |             3590 |  117535 |\n",
      "+----+------------------------+-----------------+------------------------------------+---------------------------------+------------------------+--------------------------------+---------------+-----------------------------------+-------------------+-------------------+------------------+-------------------+-----------------------+----------------------------------------+-------------------------+-------------------+-----------------+-----------------------+---------------+-----------------------------+-------------------------------+-----------------+-----------------+-----------------------+---------------------+---------------------+------------------+------------------+----------------------+------------------------+-----------------------+----------------------+-----------------------------+------------------+---------+\n",
      "| 20 | Rheinland-Pfalz        | quarter 1, 2019 |                               2463 |                            2130 |                   2317 |                           2210 |          2206 |                              2359 |              2061 |              2108 |             2338 |              2311 |                  2252 |                                   2381 |                    2094 |              2066 |            2293 |                  2189 |          1896 |                        2251 |                          2208 |            2146 |            1993 |                  2210 |                1800 |                2134 |             2182 |             1915 |                 2225 |                   2353 |                  2272 |                 2152 |                        2186 |             2348 |   70049 |\n",
      "+----+------------------------+-----------------+------------------------------------+---------------------------------+------------------------+--------------------------------+---------------+-----------------------------------+-------------------+-------------------+------------------+-------------------+-----------------------+----------------------------------------+-------------------------+-------------------+-----------------+-----------------------+---------------+-----------------------------+-------------------------------+-----------------+-----------------+-----------------------+---------------------+---------------------+------------------+------------------+----------------------+------------------------+-----------------------+----------------------+-----------------------------+------------------+---------+\n",
      "| 21 | Rheinland-Pfalz        | quarter 2, 2019 |                               1481 |                            1569 |                   1550 |                           1572 |          1528 |                              1598 |              1482 |              1615 |             1493 |              1562 |                  1575 |                                   1512 |                    1372 |              1600 |            1664 |                  1502 |          1357 |                        1479 |                          1301 |            1450 |            1467 |                  1515 |                1546 |                1365 |             1444 |             1555 |                 1562 |                   1487 |                  1518 |                 1358 |                        1705 |             1370 |   48154 |\n",
      "+----+------------------------+-----------------+------------------------------------+---------------------------------+------------------------+--------------------------------+---------------+-----------------------------------+-------------------+-------------------+------------------+-------------------+-----------------------+----------------------------------------+-------------------------+-------------------+-----------------+-----------------------+---------------+-----------------------------+-------------------------------+-----------------+-----------------+-----------------------+---------------------+---------------------+------------------+------------------+----------------------+------------------------+-----------------------+----------------------+-----------------------------+------------------+---------+\n",
      "| 42 | Rheinland-Pfalz        | total           |                               3944 |                            3699 |                   3867 |                           3782 |          3734 |                              3957 |              3543 |              3723 |             3831 |              3873 |                  3827 |                                   3893 |                    3466 |              3666 |            3957 |                  3691 |          3253 |                        3730 |                          3509 |            3596 |            3460 |                  3725 |                3346 |                3499 |             3626 |             3470 |                 3787 |                   3840 |                  3790 |                 3510 |                        3891 |             3718 |  118203 |\n",
      "+----+------------------------+-----------------+------------------------------------+---------------------------------+------------------------+--------------------------------+---------------+-----------------------------------+-------------------+-------------------+------------------+-------------------+-----------------------+----------------------------------------+-------------------------+-------------------+-----------------+-----------------------+---------------+-----------------------------+-------------------------------+-----------------+-----------------+-----------------------+---------------------+---------------------+------------------+------------------+----------------------+------------------------+-----------------------+----------------------+-----------------------------+------------------+---------+\n",
      "| 22 | Saarland               | quarter 1, 2019 |                               2018 |                            2288 |                   2252 |                           2065 |          2277 |                              2302 |              2280 |              2066 |             2397 |              2089 |                  2101 |                                   2177 |                    2097 |              2283 |            2241 |                  2109 |          2342 |                        2049 |                          2162 |            2224 |            2241 |                  2192 |                2174 |                2145 |             2296 |             2209 |                 2250 |                   2051 |                  2189 |                 2081 |                        2066 |             2307 |   70020 |\n",
      "+----+------------------------+-----------------+------------------------------------+---------------------------------+------------------------+--------------------------------+---------------+-----------------------------------+-------------------+-------------------+------------------+-------------------+-----------------------+----------------------------------------+-------------------------+-------------------+-----------------+-----------------------+---------------+-----------------------------+-------------------------------+-----------------+-----------------+-----------------------+---------------------+---------------------+------------------+------------------+----------------------+------------------------+-----------------------+----------------------+-----------------------------+------------------+---------+\n",
      "| 23 | Saarland               | quarter 2, 2019 |                               1613 |                            1520 |                   1499 |                           1557 |          1551 |                              1414 |              1436 |              1529 |             1452 |              1631 |                  1234 |                                   1776 |                    1389 |              1584 |            1647 |                  1445 |          1595 |                        1452 |                          1780 |            1593 |            1382 |                  1662 |                1548 |                1440 |             1468 |             1389 |                 1473 |                   1638 |                  1358 |                 1502 |                        1686 |             1636 |   48879 |\n",
      "+----+------------------------+-----------------+------------------------------------+---------------------------------+------------------------+--------------------------------+---------------+-----------------------------------+-------------------+-------------------+------------------+-------------------+-----------------------+----------------------------------------+-------------------------+-------------------+-----------------+-----------------------+---------------+-----------------------------+-------------------------------+-----------------+-----------------+-----------------------+---------------------+---------------------+------------------+------------------+----------------------+------------------------+-----------------------+----------------------+-----------------------------+------------------+---------+\n",
      "| 43 | Saarland               | total           |                               3631 |                            3808 |                   3751 |                           3622 |          3828 |                              3716 |              3716 |              3595 |             3849 |              3720 |                  3335 |                                   3953 |                    3486 |              3867 |            3888 |                  3554 |          3937 |                        3501 |                          3942 |            3817 |            3623 |                  3854 |                3722 |                3585 |             3764 |             3598 |                 3723 |                   3689 |                  3547 |                 3583 |                        3752 |             3943 |  118899 |\n",
      "+----+------------------------+-----------------+------------------------------------+---------------------------------+------------------------+--------------------------------+---------------+-----------------------------------+-------------------+-------------------+------------------+-------------------+-----------------------+----------------------------------------+-------------------------+-------------------+-----------------+-----------------------+---------------+-----------------------------+-------------------------------+-----------------+-----------------+-----------------------+---------------------+---------------------+------------------+------------------+----------------------+------------------------+-----------------------+----------------------+-----------------------------+------------------+---------+\n",
      "| 24 | Sachsen                | quarter 1, 2019 |                               2116 |                            1753 |                   2274 |                           2015 |          2318 |                              2172 |              2139 |              2185 |             2416 |              2276 |                  2297 |                                   2143 |                    2129 |              2140 |            1987 |                  2210 |          2104 |                        2128 |                          2075 |            2439 |            2341 |                  2269 |                2189 |                2014 |             2114 |             2065 |                 2318 |                   2310 |                  2185 |                 2034 |                        2161 |             2390 |   69706 |\n",
      "+----+------------------------+-----------------+------------------------------------+---------------------------------+------------------------+--------------------------------+---------------+-----------------------------------+-------------------+-------------------+------------------+-------------------+-----------------------+----------------------------------------+-------------------------+-------------------+-----------------+-----------------------+---------------+-----------------------------+-------------------------------+-----------------+-----------------+-----------------------+---------------------+---------------------+------------------+------------------+----------------------+------------------------+-----------------------+----------------------+-----------------------------+------------------+---------+\n",
      "| 25 | Sachsen                | quarter 2, 2019 |                               1242 |                            1307 |                   1595 |                           1317 |          1434 |                              1669 |              1594 |              1467 |             1418 |              1438 |                  1392 |                                   1384 |                    1571 |              1395 |            1414 |                  1572 |          1444 |                        1472 |                          1520 |            1258 |            1461 |                  1390 |                1516 |                1714 |             1562 |             1593 |                 1514 |                   1468 |                  1352 |                 1599 |                        1581 |             1560 |   47213 |\n",
      "+----+------------------------+-----------------+------------------------------------+---------------------------------+------------------------+--------------------------------+---------------+-----------------------------------+-------------------+-------------------+------------------+-------------------+-----------------------+----------------------------------------+-------------------------+-------------------+-----------------+-----------------------+---------------+-----------------------------+-------------------------------+-----------------+-----------------+-----------------------+---------------------+---------------------+------------------+------------------+----------------------+------------------------+-----------------------+----------------------+-----------------------------+------------------+---------+\n",
      "| 44 | Sachsen                | total           |                               3358 |                            3060 |                   3869 |                           3332 |          3752 |                              3841 |              3733 |              3652 |             3834 |              3714 |                  3689 |                                   3527 |                    3700 |              3535 |            3401 |                  3782 |          3548 |                        3600 |                          3595 |            3697 |            3802 |                  3659 |                3705 |                3728 |             3676 |             3658 |                 3832 |                   3778 |                  3537 |                 3633 |                        3742 |             3950 |  116919 |\n",
      "+----+------------------------+-----------------+------------------------------------+---------------------------------+------------------------+--------------------------------+---------------+-----------------------------------+-------------------+-------------------+------------------+-------------------+-----------------------+----------------------------------------+-------------------------+-------------------+-----------------+-----------------------+---------------+-----------------------------+-------------------------------+-----------------+-----------------+-----------------------+---------------------+---------------------+------------------+------------------+----------------------+------------------------+-----------------------+----------------------+-----------------------------+------------------+---------+\n",
      "| 26 | Sachsen-Anhalt         | quarter 1, 2019 |                               2322 |                            1839 |                   1983 |                           2278 |          2227 |                              2082 |              2269 |              2220 |             2373 |              2227 |                  2045 |                                   2205 |                    2054 |              2181 |            2027 |                  2068 |          2179 |                        2479 |                          2426 |            2084 |            2161 |                  2533 |                2060 |                2314 |             1953 |             2249 |                 2259 |                   2319 |                  2138 |                 2006 |                        2469 |             2198 |   70227 |\n",
      "+----+------------------------+-----------------+------------------------------------+---------------------------------+------------------------+--------------------------------+---------------+-----------------------------------+-------------------+-------------------+------------------+-------------------+-----------------------+----------------------------------------+-------------------------+-------------------+-----------------+-----------------------+---------------+-----------------------------+-------------------------------+-----------------+-----------------+-----------------------+---------------------+---------------------+------------------+------------------+----------------------+------------------------+-----------------------+----------------------+-----------------------------+------------------+---------+\n",
      "| 27 | Sachsen-Anhalt         | quarter 2, 2019 |                               1584 |                            1417 |                   1329 |                           1553 |          1520 |                              1345 |              1356 |              1272 |             1446 |              1531 |                  1454 |                                   1380 |                    1583 |              1536 |            1489 |                  1663 |          1562 |                        1316 |                          1658 |            1415 |            1427 |                  1604 |                1379 |                1526 |             1453 |             1486 |                 1452 |                   1575 |                  1582 |                 1458 |                        1505 |             1675 |   47531 |\n",
      "+----+------------------------+-----------------+------------------------------------+---------------------------------+------------------------+--------------------------------+---------------+-----------------------------------+-------------------+-------------------+------------------+-------------------+-----------------------+----------------------------------------+-------------------------+-------------------+-----------------+-----------------------+---------------+-----------------------------+-------------------------------+-----------------+-----------------+-----------------------+---------------------+---------------------+------------------+------------------+----------------------+------------------------+-----------------------+----------------------+-----------------------------+------------------+---------+\n",
      "| 45 | Sachsen-Anhalt         | total           |                               3906 |                            3256 |                   3312 |                           3831 |          3747 |                              3427 |              3625 |              3492 |             3819 |              3758 |                  3499 |                                   3585 |                    3637 |              3717 |            3516 |                  3731 |          3741 |                        3795 |                          4084 |            3499 |            3588 |                  4137 |                3439 |                3840 |             3406 |             3735 |                 3711 |                   3894 |                  3720 |                 3464 |                        3974 |             3873 |  117758 |\n",
      "+----+------------------------+-----------------+------------------------------------+---------------------------------+------------------------+--------------------------------+---------------+-----------------------------------+-------------------+-------------------+------------------+-------------------+-----------------------+----------------------------------------+-------------------------+-------------------+-----------------+-----------------------+---------------+-----------------------------+-------------------------------+-----------------+-----------------+-----------------------+---------------------+---------------------+------------------+------------------+----------------------+------------------------+-----------------------+----------------------+-----------------------------+------------------+---------+\n",
      "| 28 | Schleswig-Holstein     | quarter 1, 2019 |                               2306 |                            2464 |                   2122 |                           2051 |          2116 |                              2179 |              2198 |              2322 |             2357 |              2326 |                  2229 |                                   2101 |                    2229 |              1842 |            2460 |                  2008 |          2189 |                        2151 |                          2177 |            2411 |            2181 |                  2043 |                2137 |                2349 |             2081 |             2237 |                 2016 |                   1804 |                  2018 |                 2046 |                        2090 |             2256 |   69496 |\n",
      "+----+------------------------+-----------------+------------------------------------+---------------------------------+------------------------+--------------------------------+---------------+-----------------------------------+-------------------+-------------------+------------------+-------------------+-----------------------+----------------------------------------+-------------------------+-------------------+-----------------+-----------------------+---------------+-----------------------------+-------------------------------+-----------------+-----------------+-----------------------+---------------------+---------------------+------------------+------------------+----------------------+------------------------+-----------------------+----------------------+-----------------------------+------------------+---------+\n",
      "| 29 | Schleswig-Holstein     | quarter 2, 2019 |                               1527 |                            1524 |                   1358 |                           1527 |          1563 |                              1355 |              1397 |              1387 |             1376 |              1450 |                  1464 |                                   1425 |                    1550 |              1584 |            1449 |                  1294 |          1538 |                        1683 |                          1583 |            1534 |            1545 |                  1390 |                1501 |                1573 |             1418 |             1484 |                 1330 |                   1591 |                  1421 |                 1363 |                        1392 |             1484 |   47060 |\n",
      "+----+------------------------+-----------------+------------------------------------+---------------------------------+------------------------+--------------------------------+---------------+-----------------------------------+-------------------+-------------------+------------------+-------------------+-----------------------+----------------------------------------+-------------------------+-------------------+-----------------+-----------------------+---------------+-----------------------------+-------------------------------+-----------------+-----------------+-----------------------+---------------------+---------------------+------------------+------------------+----------------------+------------------------+-----------------------+----------------------+-----------------------------+------------------+---------+\n",
      "| 46 | Schleswig-Holstein     | total           |                               3833 |                            3988 |                   3480 |                           3578 |          3679 |                              3534 |              3595 |              3709 |             3733 |              3776 |                  3693 |                                   3526 |                    3779 |              3426 |            3909 |                  3302 |          3727 |                        3834 |                          3760 |            3945 |            3726 |                  3433 |                3638 |                3922 |             3499 |             3721 |                 3346 |                   3395 |                  3439 |                 3409 |                        3482 |             3740 |  116556 |\n",
      "+----+------------------------+-----------------+------------------------------------+---------------------------------+------------------------+--------------------------------+---------------+-----------------------------------+-------------------+-------------------+------------------+-------------------+-----------------------+----------------------------------------+-------------------------+-------------------+-----------------+-----------------------+---------------+-----------------------------+-------------------------------+-----------------+-----------------+-----------------------+---------------------+---------------------+------------------+------------------+----------------------+------------------------+-----------------------+----------------------+-----------------------------+------------------+---------+\n",
      "| 30 | Thüringen              | quarter 1, 2019 |                               1952 |                            2312 |                   2093 |                           2298 |          2175 |                              1971 |              2436 |              2377 |             2131 |              2083 |                  2272 |                                   2136 |                    2279 |              2334 |            2352 |                  1970 |          2123 |                        2273 |                          2241 |            2360 |            2504 |                  2317 |                2372 |                2218 |             2285 |             2316 |                 2467 |                   2159 |                  2191 |                 2264 |                        2436 |             2154 |   71851 |\n",
      "+----+------------------------+-----------------+------------------------------------+---------------------------------+------------------------+--------------------------------+---------------+-----------------------------------+-------------------+-------------------+------------------+-------------------+-----------------------+----------------------------------------+-------------------------+-------------------+-----------------+-----------------------+---------------+-----------------------------+-------------------------------+-----------------+-----------------+-----------------------+---------------------+---------------------+------------------+------------------+----------------------+------------------------+-----------------------+----------------------+-----------------------------+------------------+---------+\n",
      "| 31 | Thüringen              | quarter 2, 2019 |                               1505 |                            1570 |                   1374 |                           1496 |          1558 |                              1518 |              1465 |              1537 |             1733 |              1552 |                  1322 |                                   1550 |                    1697 |              1519 |            1474 |                  1579 |          1444 |                        1421 |                          1469 |            1751 |            1426 |                  1643 |                1615 |                1294 |             1623 |             1676 |                 1351 |                   1506 |                  1653 |                 1684 |                        1490 |             1353 |   48848 |\n",
      "+----+------------------------+-----------------+------------------------------------+---------------------------------+------------------------+--------------------------------+---------------+-----------------------------------+-------------------+-------------------+------------------+-------------------+-----------------------+----------------------------------------+-------------------------+-------------------+-----------------+-----------------------+---------------+-----------------------------+-------------------------------+-----------------+-----------------+-----------------------+---------------------+---------------------+------------------+------------------+----------------------+------------------------+-----------------------+----------------------+-----------------------------+------------------+---------+\n",
      "| 47 | Thüringen              | total           |                               3457 |                            3882 |                   3467 |                           3794 |          3733 |                              3489 |              3901 |              3914 |             3864 |              3635 |                  3594 |                                   3686 |                    3976 |              3853 |            3826 |                  3549 |          3567 |                        3694 |                          3710 |            4111 |            3930 |                  3960 |                3987 |                3512 |             3908 |             3992 |                 3818 |                   3665 |                  3844 |                 3948 |                        3926 |             3507 |  120699 |\n",
      "+----+------------------------+-----------------+------------------------------------+---------------------------------+------------------------+--------------------------------+---------------+-----------------------------------+-------------------+-------------------+------------------+-------------------+-----------------------+----------------------------------------+-------------------------+-------------------+-----------------+-----------------------+---------------+-----------------------------+-------------------------------+-----------------+-----------------+-----------------------+---------------------+---------------------+------------------+------------------+----------------------+------------------------+-----------------------+----------------------+-----------------------------+------------------+---------+\n",
      "| 48 | total                  | total           |                              58198 |                           58821 |                  58988 |                          58516 |         60313 |                             60140 |             59250 |             59350 |            58915 |             58800 |                 57377 |                                  59120 |                   58101 |             58097 |           59535 |                 58048 |         58344 |                       59293 |                         60298 |           59155 |           58880 |                 59569 |               57870 |               58950 |            59090 |            59121 |                59247 |                  59123 |                 58907 |                58620 |                       59243 |            60379 | 1887658 |\n",
      "+----+------------------------+-----------------+------------------------------------+---------------------------------+------------------------+--------------------------------+---------------+-----------------------------------+-------------------+-------------------+------------------+-------------------+-----------------------+----------------------------------------+-------------------------+-------------------+-----------------+-----------------------+---------------+-----------------------------+-------------------------------+-----------------+-----------------+-----------------------+---------------------+---------------------+------------------+------------------+----------------------+------------------------+-----------------------+----------------------+-----------------------------+------------------+---------+\n"
     ]
    }
   ],
   "execution_count": 42
  }
 ],
 "metadata": {
  "kernelspec": {
   "display_name": "Python 3",
   "language": "python",
   "name": "python3"
  },
  "language_info": {
   "codemirror_mode": {
    "name": "ipython",
    "version": 2
   },
   "file_extension": ".py",
   "mimetype": "text/x-python",
   "name": "python",
   "nbconvert_exporter": "python",
   "pygments_lexer": "ipython2",
   "version": "2.7.6"
  }
 },
 "nbformat": 4,
 "nbformat_minor": 5
}
